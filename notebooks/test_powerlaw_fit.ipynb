{
 "cells": [
  {
   "cell_type": "code",
   "execution_count": null,
   "metadata": {},
   "outputs": [],
   "source": [
    "import networkx as nx\n",
    "import matplotlib.pyplot as plt\n",
    "import scipy.stats as stats\n",
    "import numpy as np"
   ]
  },
  {
   "cell_type": "code",
   "execution_count": null,
   "metadata": {},
   "outputs": [],
   "source": [
    "G = nx.gnp_random_graph(100, 0.5, directed=False)"
   ]
  },
  {
   "cell_type": "code",
   "execution_count": null,
   "metadata": {},
   "outputs": [],
   "source": [
    "degrees = []\n",
    "for node in G.nodes:\n",
    "    degrees.append(G.degree(node))"
   ]
  },
  {
   "cell_type": "code",
   "execution_count": null,
   "metadata": {},
   "outputs": [],
   "source": [
    "fit_params = stats.powerlaw.fit(degrees)\n",
    "print(fit_params)"
   ]
  },
  {
   "cell_type": "code",
   "execution_count": null,
   "metadata": {},
   "outputs": [],
   "source": [
    "plt.figure(figsize=(7,4))\n",
    "x = np.linspace(0, max(degrees), 100)\n",
    "pdff = stats.powerlaw.pdf(x, *fit_params)\n",
    "plt.plot(x, pdff, 'k-', lw=2, label='Power law fit')\n",
    "plt.hist(degrees, bins='auto', histtype='stepfilled', density=True, alpha=0.2, label='Degree distribution')"
   ]
  },
  {
   "cell_type": "code",
   "execution_count": null,
   "metadata": {},
   "outputs": [],
   "source": [
    "def kld(p,q):\n",
    "    assert len(p) == len(q)\n",
    "    # assume they are defined on the same sample space\n",
    "    kl = 0\n",
    "    for ii in range(len(p)):\n",
    "        if p[ii] > 0 and q[ii] > 0:\n",
    "            kl += p[ii] * np.log(p[ii]/q[ii])\n",
    "    return kl"
   ]
  },
  {
   "cell_type": "code",
   "execution_count": null,
   "metadata": {},
   "outputs": [],
   "source": [
    "degrees_normalized = (degrees - fit_params[1]) / fit_params[2]\n",
    "hist, bins = np.histogram(degrees_normalized, \n",
    "                          bins=25, \n",
    "                          #range=(0, np.max(degrees_normalized)), \n",
    "                          density=True)\n",
    "bins = bins[0:-1]\n",
    "# shifted\n",
    "plt.figure(figsize=(7,4))\n",
    "x = bins\n",
    "pdff = stats.powerlaw.pdf(x, fit_params[0])\n",
    "kl = kld(hist, pdff)\n",
    "plt.plot(x, pdff, 'k-', lw=2, label='Power law fit')\n",
    "plt.stem(bins, hist, label='Empirical')\n",
    "plt.title('a=%0.03f KLD=%0.03f' % (fit_params[0], kl))\n",
    "plt.legend()"
   ]
  },
  {
   "cell_type": "code",
   "execution_count": null,
   "metadata": {},
   "outputs": [],
   "source": [
    "min(degrees_normalized)"
   ]
  },
  {
   "cell_type": "code",
   "execution_count": null,
   "metadata": {},
   "outputs": [],
   "source": [
    "stats.powerlaw.pdf(min(degrees_normalized), fit_params[0])"
   ]
  },
  {
   "cell_type": "code",
   "execution_count": null,
   "metadata": {},
   "outputs": [],
   "source": [
    "np.log(0)"
   ]
  },
  {
   "cell_type": "code",
   "execution_count": null,
   "metadata": {},
   "outputs": [],
   "source": [
    "# try the method outlined here:https://lordgrilo.github.io/complexity-book/2-networkx/nb04_powerlaw_fitting.html#the-powerlaw-package\n",
    "\n",
    "from collections import Counter \n",
    "deg=dict(G.degree()).values()\n",
    "deg_distri=Counter(deg)"
   ]
  },
  {
   "cell_type": "code",
   "execution_count": null,
   "metadata": {},
   "outputs": [],
   "source": [
    "x=[]\n",
    "y=[]\n",
    "for i in sorted(deg_distri):   \n",
    "    x.append(i)\n",
    "    y.append(deg_distri[i]/len(G))\n",
    "\n",
    "\n",
    "plt.figure(figsize=(6,3))\n",
    "plt.hist(deg, bins=90, density=True, log=True, histtype='stepfilled')\n",
    "\n",
    "plt.plot(x,y,'black','o')\n",
    "plt.xscale('log')\n",
    "plt.yscale('log')\n",
    "plt.xticks(fontsize=20)\n",
    "plt.yticks(fontsize=22)\n",
    "plt.xlabel('degree $k$', fontsize=22)\n",
    "plt.ylabel('$P(k)$', fontsize=22)"
   ]
  },
  {
   "cell_type": "code",
   "execution_count": null,
   "metadata": {},
   "outputs": [],
   "source": [
    "import powerlaw as pwl\n",
    "degree=list(deg)\n",
    "pwl_distri=pwl.pdf(degree, bins=90)"
   ]
  },
  {
   "cell_type": "code",
   "execution_count": null,
   "metadata": {},
   "outputs": [],
   "source": [
    "plt.plot(pwl_distri[0][0:-1],pwl_distri[1],'r--',linewidth=2)"
   ]
  },
  {
   "cell_type": "code",
   "execution_count": null,
   "metadata": {},
   "outputs": [],
   "source": [
    "fo = pwl.Fit(pwl_distri[1])"
   ]
  },
  {
   "cell_type": "code",
   "execution_count": null,
   "metadata": {},
   "outputs": [],
   "source": [
    "fo.power_law.KS()"
   ]
  },
  {
   "cell_type": "code",
   "execution_count": null,
   "metadata": {},
   "outputs": [],
   "source": []
  }
 ],
 "metadata": {
  "kernelspec": {
   "display_name": "nosh",
   "language": "python",
   "name": "python3"
  },
  "language_info": {
   "codemirror_mode": {
    "name": "ipython",
    "version": 3
   },
   "file_extension": ".py",
   "mimetype": "text/x-python",
   "name": "python",
   "nbconvert_exporter": "python",
   "pygments_lexer": "ipython3",
   "version": "3.10.14"
  }
 },
 "nbformat": 4,
 "nbformat_minor": 2
}
