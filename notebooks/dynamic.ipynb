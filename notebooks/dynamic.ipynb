{
 "cells": [
  {
   "cell_type": "code",
   "execution_count": 15,
   "metadata": {},
   "outputs": [
    {
     "name": "stdout",
     "output_type": "stream",
     "text": [
      "The autoreload extension is already loaded. To reload it, use:\n",
      "  %reload_ext autoreload\n"
     ]
    }
   ],
   "source": [
    "%load_ext autoreload\n",
    "%autoreload 2"
   ]
  },
  {
   "cell_type": "code",
   "execution_count": 16,
   "metadata": {},
   "outputs": [],
   "source": [
    "## This notebook tests the hypothesis presented in this document:\n",
    "##  https://www.overleaf.com/project/6646149ffbda4a6cc359244d"
   ]
  },
  {
   "cell_type": "code",
   "execution_count": 17,
   "metadata": {},
   "outputs": [],
   "source": [
    "import networkx as nx\n",
    "import numpy as np\n",
    "\n",
    "import matplotlib.pyplot as plt"
   ]
  },
  {
   "cell_type": "code",
   "execution_count": 18,
   "metadata": {},
   "outputs": [],
   "source": [
    "class Buyer:\n",
    "    def __init__(self, id):\n",
    "        self.id = 'Buyer_' + str(id)\n",
    "\n",
    "class Seller:\n",
    "    def __init__(self, id):\n",
    "        self.id = 'Seller_' + str(id)\n",
    "        self.fees_vec = []\n",
    "        self.total_fees_vec = []\n",
    "        self.weight_vec = []\n",
    "        self.total_weight_vec = []\n",
    "\n",
    "    def step(self, fees = 0, weight = 0):\n",
    "        self.update_fees_paid(fees)\n",
    "        self.update_weight(weight)\n",
    "\n",
    "    def update_fees_paid(self, fees):\n",
    "        self.fees_vec.append(fees)\n",
    "        if len(self.total_fees_vec) == 0:\n",
    "            self.total_fees_vec.append(fees)\n",
    "        else:\n",
    "            total_fees_paid = self.total_fees_vec[-1] + fees\n",
    "            self.total_fees_vec.append(total_fees_paid)\n",
    "\n",
    "    def update_weight(self, weight):\n",
    "        self.weight_vec.append(weight)\n",
    "        if len(self.total_weight_vec) == 0:\n",
    "            self.total_weight_vec.append(weight)\n",
    "        else:\n",
    "            total_weight = self.total_weight_vec[-1] + weight\n",
    "            self.total_weight_vec.append(total_weight)\n",
    "\n",
    "    def __str__(self):\n",
    "        return f\"ID: {self.id}, Fees Paid: {self.fees_paid}, Total Weight: {self.total_weight}\"\n",
    "\n",
    "class DynamicSimulation:\n",
    "    def __init__(self, \n",
    "                 n_buyers=10, \n",
    "                 seller_u_connectivity_fraction=0.8, \n",
    "                 seller_s_connectivity_fraction=0.2,\n",
    "                 seed=123):\n",
    "        self.rng = np.random.default_rng(seed)\n",
    "        # create a blank graph representation of the network\n",
    "        self.graph = nx.Graph()\n",
    "\n",
    "        self.seller_u_connectivity_fraction = seller_u_connectivity_fraction\n",
    "        self.seller_s_connectivity_fraction = seller_s_connectivity_fraction\n",
    "\n",
    "        # create N buyers\n",
    "        self.n_buyers = n_buyers\n",
    "        self.buyers = [Buyer(i) for i in range(n_buyers)]\n",
    "\n",
    "        # create u and s producers.  u is highly connected, s is sparsely connected\n",
    "        self.sellers = [Seller(i) for i in range(2)]\n",
    "        \n",
    "        # make seller 1 the highly connected seller (connected to 80% of buyers)\n",
    "        buyer_idxs_connect = self.rng.choice(n_buyers, int(seller_u_connectivity_fraction * n_buyers), replace=False)\n",
    "        for ix in buyer_idxs_connect:\n",
    "            w = self.rng.uniform(0, 1)\n",
    "            self.graph.add_edge(self.sellers[0], self.buyers[ix], weight=w)\n",
    "\n",
    "        # make seller 2 the lowly connected seller (connected to 20% of buyers)\n",
    "        buyer_idxs_connect = self.rng.choice(n_buyers, int(seller_s_connectivity_fraction * n_buyers), replace=False)\n",
    "        for ix in buyer_idxs_connect:\n",
    "            w = self.rng.uniform(0, 1)\n",
    "            self.graph.add_edge(self.sellers[1], self.buyers[ix], weight=w)\n",
    "\n",
    "    def transaction_value_to_weight_and_fees(self, transaction_value):\n",
    "        # TODO: define this in more detail\n",
    "        graph_weight_for_transaction = 0.9 * transaction_value\n",
    "        fees_for_transaction = 0.1 * transaction_value\n",
    "        return graph_weight_for_transaction, fees_for_transaction\n",
    "\n",
    "    def step(self, transact_probability=0.5):\n",
    "        # determine whether we will transact\n",
    "        will_transact = self.rng.uniform(0, 1) < transact_probability\n",
    "        if not will_transact:\n",
    "            for seller in self.sellers:\n",
    "                seller.step(fees=0, weight=0)\n",
    "            return\n",
    "\n",
    "        buyer = self.rng.choice(self.buyers)\n",
    "        transaction_value = self.rng.uniform(0, 1)\n",
    "        graph_weight_for_transaction, fees_for_transaction = self.transaction_value_to_weight_and_fees(transaction_value)\n",
    "\n",
    "        # TODO: which seller is this buyer transacting with?\n",
    "        seller_to_transact_with = self.rng.uniform(0, 1) < self.seller_u_connectivity_fraction\n",
    "        if seller_to_transact_with == 0:\n",
    "            # tranasct w/ highly connected seller\n",
    "            seller = self.sellers[0]\n",
    "            other_seller = self.sellers[1]\n",
    "        else:\n",
    "            # tranasct w/ sparsely connected seller\n",
    "            seller = self.sellers[1]\n",
    "            other_seller = self.sellers[0]\n",
    "\n",
    "        # update graph with the new transaction\n",
    "        if self.graph.has_edge(buyer, seller):\n",
    "            # TODO: what is the update rule for the graph weight?\n",
    "            self.graph[buyer][seller]['weight'] += graph_weight_for_transaction\n",
    "        else:\n",
    "            self.graph.add_edge(buyer, seller, weight=graph_weight_for_transaction)\n",
    "        \n",
    "        # get the total weight of the seller, and set the attribute for easy access\n",
    "        new_total_weight = sum([self.graph[seller][buyer]['weight'] for buyer in self.buyers if self.graph.has_edge(seller, buyer)])\n",
    "\n",
    "        # step the agents for plotting\n",
    "        seller.step(fees=fees_for_transaction, weight=new_total_weight)\n",
    "        other_seller.step(fees=0, weight=0)\n",
    "        \n",
    "\n",
    "    def run(self, transact_probability_vector):\n",
    "        for ii in range(len(transact_probability_vector)):\n",
    "            transact_probability = transact_probability_vector[ii]\n",
    "            self.step(transact_probability=transact_probability)"
   ]
  },
  {
   "cell_type": "code",
   "execution_count": 19,
   "metadata": {},
   "outputs": [],
   "source": [
    "n_buyers = 20\n",
    "seller_u_connectivity_fraction = 0.8\n",
    "seller_s_connectivity_fraction = 0.2\n",
    "ds = DynamicSimulation(\n",
    "    n_buyers=n_buyers, \n",
    "    seller_u_connectivity_fraction=seller_u_connectivity_fraction, \n",
    "    seller_s_connectivity_fraction=seller_s_connectivity_fraction,\n",
    "    seed=123\n",
    ")\n",
    "transact_probability_vector = np.ones(100)*0.5\n",
    "ds.run(transact_probability_vector=transact_probability_vector)"
   ]
  },
  {
   "cell_type": "code",
   "execution_count": 20,
   "metadata": {},
   "outputs": [
    {
     "data": {
      "image/png": "[encoded data removed]",
      "text/plain": [
       "<Figure size 600x400 with 2 Axes>"
      ]
     },
     "metadata": {},
     "output_type": "display_data"
    }
   ],
   "source": [
    "fig, ax = plt.subplots(1, 2, figsize=(6, 4))\n",
    "for seller in ds.sellers:\n",
    "    ax[0].plot(seller.total_fees_vec, label=seller.id)\n",
    "    ax[1].plot(seller.total_weight_vec, label=seller.id)\n",
    "ax[1].legend()\n",
    "ax[0].set_ylabel('Total Fees Paid')\n",
    "ax[1].set_ylabel('Total Weight')\n",
    "plt.tight_layout()"
   ]
  },
  {
   "cell_type": "code",
   "execution_count": null,
   "metadata": {},
   "outputs": [],
   "source": []
  }
 ],
 "metadata": {
  "kernelspec": {
   "display_name": "nosh",
   "language": "python",
   "name": "python3"
  },
  "language_info": {
   "codemirror_mode": {
    "name": "ipython",
    "version": 3
   },
   "file_extension": ".py",
   "mimetype": "text/x-python",
   "name": "python",
   "nbconvert_exporter": "python",
   "pygments_lexer": "ipython3",
   "version": "3.10.14"
  }
 },
 "nbformat": 4,
 "nbformat_minor": 2
}
