{
 "cells": [
  {
   "cell_type": "code",
   "execution_count": 1,
   "metadata": {},
   "outputs": [],
   "source": [
    "import powerlaw"
   ]
  },
  {
   "cell_type": "code",
   "execution_count": 2,
   "metadata": {},
   "outputs": [],
   "source": [
    "x = [1, 1, 4, 1, 3]"
   ]
  },
  {
   "cell_type": "code",
   "execution_count": 4,
   "metadata": {},
   "outputs": [
    {
     "name": "stdout",
     "output_type": "stream",
     "text": [
      "Calculating best minimal value for power law fit\n",
      "xmin progress: 50%\r"
     ]
    }
   ],
   "source": [
    "fitobj = powerlaw.Fit(x, discrete=True)"
   ]
  },
  {
   "cell_type": "code",
   "execution_count": 7,
   "metadata": {},
   "outputs": [
    {
     "data": {
      "text/plain": [
       "1.8402453946466126"
      ]
     },
     "execution_count": 7,
     "metadata": {},
     "output_type": "execute_result"
    }
   ],
   "source": [
    "fitobj.power_law.alpha"
   ]
  },
  {
   "cell_type": "code",
   "execution_count": 10,
   "metadata": {},
   "outputs": [
    {
     "name": "stdout",
     "output_type": "stream",
     "text": [
      "0.10099180727765056\n"
     ]
    }
   ],
   "source": [
    "\n",
    "print(fitobj.power_law.KS())\n",
    "# fit.power_law.parameter1_name"
   ]
  },
  {
   "cell_type": "code",
   "execution_count": 9,
   "metadata": {},
   "outputs": [
    {
     "name": "stdout",
     "output_type": "stream",
     "text": [
      "Help on Power_Law in module powerlaw object:\n",
      "\n",
      "class Power_Law(Distribution)\n",
      " |  Power_Law(estimate_discrete=True, **kwargs)\n",
      " |  \n",
      " |  Method resolution order:\n",
      " |      Power_Law\n",
      " |      Distribution\n",
      " |      builtins.object\n",
      " |  \n",
      " |  Methods defined here:\n",
      " |  \n",
      " |  __init__(self, estimate_discrete=True, **kwargs)\n",
      " |      Initialize self.  See help(type(self)) for accurate signature.\n",
      " |  \n",
      " |  fit(self, data=None)\n",
      " |      Fits the parameters of the distribution to the data. Uses options set\n",
      " |      at initialization.\n",
      " |  \n",
      " |  parameters(self, params)\n",
      " |  \n",
      " |  ----------------------------------------------------------------------\n",
      " |  Readonly properties defined here:\n",
      " |  \n",
      " |  name\n",
      " |  \n",
      " |  sigma\n",
      " |  \n",
      " |  ----------------------------------------------------------------------\n",
      " |  Methods inherited from Distribution:\n",
      " |  \n",
      " |  KS(self, data=None)\n",
      " |      Returns the Kolmogorov-Smirnov distance D between the distribution and\n",
      " |      the data. Also sets the properties D+, D-, V (the Kuiper testing\n",
      " |      statistic), and Kappa (1 + the average difference between the\n",
      " |      theoretical and empirical distributions).\n",
      " |      \n",
      " |      Parameters\n",
      " |      ----------\n",
      " |      data : list or array, optional\n",
      " |          If not provided, attempts to use the data from the Fit object in\n",
      " |          which the Distribution object is contained.\n",
      " |  \n",
      " |  ccdf(self, data=None, survival=True)\n",
      " |      The complementary cumulative distribution function (CCDF) of the\n",
      " |      theoretical distribution. Calculated for the values given in data\n",
      " |      within xmin and xmax, if present.\n",
      " |      \n",
      " |      Parameters\n",
      " |      ----------\n",
      " |      data : list or array, optional\n",
      " |          If not provided, attempts to use the data from the Fit object in\n",
      " |          which the Distribution object is contained.\n",
      " |      survival : bool, optional\n",
      " |          Whether to calculate a CDF (False) or CCDF (True).\n",
      " |          True by default.\n",
      " |      \n",
      " |      Returns\n",
      " |      -------\n",
      " |      X : array\n",
      " |          The sorted, unique values in the data.\n",
      " |      probabilities : array\n",
      " |          The portion of the data that is less than or equal to X.\n",
      " |  \n",
      " |  cdf(self, data=None, survival=False)\n",
      " |      The cumulative distribution function (CDF) of the theoretical\n",
      " |      distribution. Calculated for the values given in data within xmin and\n",
      " |      xmax, if present.\n",
      " |      \n",
      " |      Parameters\n",
      " |      ----------\n",
      " |      data : list or array, optional\n",
      " |          If not provided, attempts to use the data from the Fit object in\n",
      " |          which the Distribution object is contained.\n",
      " |      survival : bool, optional\n",
      " |          Whether to calculate a CDF (False) or CCDF (True).\n",
      " |          False by default.\n",
      " |      \n",
      " |      Returns\n",
      " |      -------\n",
      " |      X : array\n",
      " |          The sorted, unique values in the data.\n",
      " |      probabilities : array\n",
      " |          The portion of the data that is less than or equal to X.\n",
      " |  \n",
      " |  generate_random(self, n=1, estimate_discrete=None)\n",
      " |      Generates random numbers from the theoretical probability distribution.\n",
      " |      If xmax is present, it is currently ignored.\n",
      " |      \n",
      " |      Parameters\n",
      " |      ----------\n",
      " |      n : int or float\n",
      " |          The number of random numbers to generate\n",
      " |      estimate_discrete : boolean\n",
      " |          For discrete distributions, whether to use a faster approximation of\n",
      " |          the random number generator. If None, attempts to inherit\n",
      " |          the estimate_discrete behavior used for fitting from the Distribution\n",
      " |          object or the parent Fit object, if present. Approximations only\n",
      " |          exist for some distributions (namely the power law). If an\n",
      " |          approximation does not exist an estimate_discrete setting of True\n",
      " |          will not be inherited.\n",
      " |      \n",
      " |      Returns\n",
      " |      -------\n",
      " |      r : array\n",
      " |          Random numbers drawn from the distribution\n",
      " |  \n",
      " |  in_range(self)\n",
      " |      Whether the current parameters of the distribution are within the range\n",
      " |      of valid parameters.\n",
      " |  \n",
      " |  initial_parameters(self, data)\n",
      " |      Return previously user-provided initial parameters or, if never\n",
      " |      provided,  calculate new ones. Default initial parameter estimates are\n",
      " |      unique to each theoretical distribution.\n",
      " |  \n",
      " |  likelihoods(self, data)\n",
      " |      The likelihoods of the observed data from the theoretical distribution.\n",
      " |      Another name for the probabilities or probability density function.\n",
      " |  \n",
      " |  loglikelihoods(self, data)\n",
      " |      The logarithm of the likelihoods of the observed data from the\n",
      " |      theoretical distribution.\n",
      " |  \n",
      " |  parameter_range(self, r, initial_parameters=None)\n",
      " |      Set the limits on the range of valid parameters to be considered while\n",
      " |      fitting.\n",
      " |      \n",
      " |      Parameters\n",
      " |      ----------\n",
      " |      r : dict\n",
      " |          A dictionary of the parameter range. Restricted parameter\n",
      " |          names are keys, and with tuples of the form (lower_bound,\n",
      " |          upper_bound) as values.\n",
      " |      initial_parameters : tuple or list, optional\n",
      " |          Initial parameter values to start the fitting search from.\n",
      " |  \n",
      " |  pdf(self, data=None)\n",
      " |      Returns the probability density function (normalized histogram) of the\n",
      " |      theoretical distribution for the values in data within xmin and xmax,\n",
      " |      if present.\n",
      " |      \n",
      " |      Parameters\n",
      " |      ----------\n",
      " |      data : list or array, optional\n",
      " |          If not provided, attempts to use the data from the Fit object in\n",
      " |          which the Distribution object is contained.\n",
      " |      \n",
      " |      Returns\n",
      " |      -------\n",
      " |      probabilities : array\n",
      " |  \n",
      " |  plot_ccdf(self, data=None, ax=None, survival=True, **kwargs)\n",
      " |      Plots the complementary cumulative distribution function (CDF) of the\n",
      " |      theoretical distribution for the values given in data within xmin and\n",
      " |      xmax, if present. Plots to a new figure or to axis ax if provided.\n",
      " |      \n",
      " |      Parameters\n",
      " |      ----------\n",
      " |      data : list or array, optional\n",
      " |          If not provided, attempts to use the data from the Fit object in\n",
      " |          which the Distribution object is contained.\n",
      " |      ax : matplotlib axis, optional\n",
      " |          The axis to which to plot. If None, a new figure is created.\n",
      " |      survival : bool, optional\n",
      " |          Whether to plot a CDF (False) or CCDF (True). True by default.\n",
      " |      \n",
      " |      Returns\n",
      " |      -------\n",
      " |      ax : matplotlib axis\n",
      " |          The axis to which the plot was made.\n",
      " |  \n",
      " |  plot_cdf(self, data=None, ax=None, survival=False, **kwargs)\n",
      " |      Plots the cumulative distribution function (CDF) of the\n",
      " |      theoretical distribution for the values given in data within xmin and\n",
      " |      xmax, if present. Plots to a new figure or to axis ax if provided.\n",
      " |      \n",
      " |      Parameters\n",
      " |      ----------\n",
      " |      data : list or array, optional\n",
      " |          If not provided, attempts to use the data from the Fit object in\n",
      " |          which the Distribution object is contained.\n",
      " |      ax : matplotlib axis, optional\n",
      " |          The axis to which to plot. If None, a new figure is created.\n",
      " |      survival : bool, optional\n",
      " |          Whether to plot a CDF (False) or CCDF (True). False by default.\n",
      " |      \n",
      " |      Returns\n",
      " |      -------\n",
      " |      ax : matplotlib axis\n",
      " |          The axis to which the plot was made.\n",
      " |  \n",
      " |  plot_pdf(self, data=None, ax=None, **kwargs)\n",
      " |      Plots the probability density function (PDF) of the\n",
      " |      theoretical distribution for the values given in data within xmin and\n",
      " |      xmax, if present. Plots to a new figure or to axis ax if provided.\n",
      " |      \n",
      " |      Parameters\n",
      " |      ----------\n",
      " |      data : list or array, optional\n",
      " |          If not provided, attempts to use the data from the Fit object in\n",
      " |          which the Distribution object is contained.\n",
      " |      ax : matplotlib axis, optional\n",
      " |          The axis to which to plot. If None, a new figure is created.\n",
      " |      \n",
      " |      Returns\n",
      " |      -------\n",
      " |      ax : matplotlib axis\n",
      " |          The axis to which the plot was made.\n",
      " |  \n",
      " |  ----------------------------------------------------------------------\n",
      " |  Data descriptors inherited from Distribution:\n",
      " |  \n",
      " |  __dict__\n",
      " |      dictionary for instance variables (if defined)\n",
      " |  \n",
      " |  __weakref__\n",
      " |      list of weak references to the object (if defined)\n",
      "\n"
     ]
    }
   ],
   "source": [
    "help(fitobj.power_law)"
   ]
  },
  {
   "cell_type": "code",
   "execution_count": 12,
   "metadata": {},
   "outputs": [],
   "source": [
    "from numpy import genfromtxt\n",
    "import urllib.request\n",
    "import powerlaw\n",
    "\n",
    "urllib.request.urlretrieve('https://raw.github.com/jeffalstott/powerlaw/master/manuscript/words.txt', 'words.txt')\n",
    "words = genfromtxt('words.txt')"
   ]
  },
  {
   "cell_type": "code",
   "execution_count": 13,
   "metadata": {},
   "outputs": [
    {
     "data": {
      "text/plain": [
       "array([1.4086e+04, 6.4140e+03, 6.2600e+03, ..., 1.0000e+00, 1.0000e+00,\n",
       "       1.0000e+00])"
      ]
     },
     "execution_count": 13,
     "metadata": {},
     "output_type": "execute_result"
    }
   ],
   "source": [
    "words"
   ]
  },
  {
   "cell_type": "code",
   "execution_count": null,
   "metadata": {},
   "outputs": [],
   "source": []
  }
 ],
 "metadata": {
  "kernelspec": {
   "display_name": "nosh",
   "language": "python",
   "name": "python3"
  },
  "language_info": {
   "codemirror_mode": {
    "name": "ipython",
    "version": 3
   },
   "file_extension": ".py",
   "mimetype": "text/x-python",
   "name": "python",
   "nbconvert_exporter": "python",
   "pygments_lexer": "ipython3",
   "version": "3.10.14"
  }
 },
 "nbformat": 4,
 "nbformat_minor": 2
}
